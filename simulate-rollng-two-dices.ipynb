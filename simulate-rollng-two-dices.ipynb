{
 "cells": [
  {
   "cell_type": "code",
   "execution_count": null,
   "id": "ec4e99fc",
   "metadata": {},
   "outputs": [
    {
     "name": "stdout",
     "output_type": "stream",
     "text": [
      "(3, 3)\n",
      "[(6, 4), (5, 3), (5, 5), (1, 4), (5, 4)]\n",
      "{(1, 1): 274, (3, 1): 255, (3, 6): 271, (1, 3): 269, (3, 3): 278, (3, 2): 301, (5, 4): 268, (4, 2): 252, (1, 2): 283, (4, 1): 291, (5, 1): 274, (5, 5): 290, (6, 6): 281, (2, 6): 304, (2, 3): 278, (1, 5): 321, (4, 5): 242, (1, 4): 288, (2, 1): 261, (2, 2): 269, (5, 6): 268, (6, 1): 279, (6, 5): 301, (5, 3): 276, (4, 4): 278, (2, 4): 297, (5, 2): 252, (2, 5): 285, (3, 4): 299, (6, 3): 273, (6, 2): 274, (4, 3): 294, (6, 4): 260, (1, 6): 269, (3, 5): 260, (4, 6): 285}\n",
      "(0.1678, 0.0274, 0.085)\n"
     ]
    }
   ],
   "source": [
    "import random\n",
    "\n",
    "def rolling_two_dices():\n",
    "    dice1 = random.randint(1, 6)\n",
    "    dice2 = random.randint(1, 6)\n",
    "    return dice1, dice2\n",
    "\n",
    "print(rolling_two_dices())\n",
    "\n",
    "def simulate_rolling_two_dices(n):\n",
    "    results = []\n",
    "    for _ in range(n):\n",
    "        results.append(rolling_two_dices())\n",
    "    return results\n",
    "\n",
    "print(simulate_rolling_two_dices(5))\n",
    "\n",
    "def count_frequency(results):\n",
    "    frequency = {}\n",
    "    for result in results:\n",
    "        if result in frequency:\n",
    "            frequency[result] += 1\n",
    "        else:\n",
    "            frequency[result] = 1\n",
    "    return frequency\n",
    "\n",
    "\n",
    "def estimate_probability(results):\n",
    "    count = count_frequency(results)\n",
    "    print(count)\n",
    "    # if sum of key pair is 7 add those values and save in a variable\n",
    "    sum_of_7 = 0\n",
    "    for key, value in count.items():\n",
    "        if sum(key) == 7:\n",
    "            sum_of_7 += value\n",
    "    probability_of_7 = sum_of_7 / len(results)\n",
    "\n",
    "    sum_of_2 = 0\n",
    "    for key, value in count.items():\n",
    "        if sum(key) == 2:\n",
    "            sum_of_2 += value\n",
    "    probability_of_2 = sum_of_2 / len(results)\n",
    "\n",
    "    sum_of_10 = 0\n",
    "    for key, value in count.items():\n",
    "        if sum(key) > 10:\n",
    "            sum_of_10 += value\n",
    "    probability_of_10 = sum_of_10 / len(results)\n",
    "\n",
    "    return probability_of_7, probability_of_2, probability_of_10\n",
    "    \n",
    "print(estimate_probability(simulate_rolling_two_dices(10000)))\n",
    "\n",
    "\n",
    "\n"
   ]
  }
 ],
 "metadata": {
  "kernelspec": {
   "display_name": "venv",
   "language": "python",
   "name": "python3"
  },
  "language_info": {
   "codemirror_mode": {
    "name": "ipython",
    "version": 3
   },
   "file_extension": ".py",
   "mimetype": "text/x-python",
   "name": "python",
   "nbconvert_exporter": "python",
   "pygments_lexer": "ipython3",
   "version": "3.13.5"
  }
 },
 "nbformat": 4,
 "nbformat_minor": 5
}
