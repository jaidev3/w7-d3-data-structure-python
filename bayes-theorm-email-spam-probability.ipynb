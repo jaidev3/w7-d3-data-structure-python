{
 "cells": [
  {
   "cell_type": "code",
   "execution_count": null,
   "id": "99f54e98",
   "metadata": {},
   "outputs": [],
   "source": [
    "# You are building a simple spam detector. From a dataset of 1000 emails, you have the following information:\n",
    "\n",
    "# 300 emails contain the word \"free\"\n",
    "# 400 emails are spam\n",
    "# 120 emails are both spam and contain the word \"free\"\n",
    "# Use this data to compute the probability that an email is spam given that it contains the word \"free\" — i.e., compute: P(Spam | Free) using Bayes' Theorem.\n",
    "\n",
    "# P(Spam | Free) = P(Free | Spam) * P(Spam) / P(Free)\n",
    "# P(Free | Spam) = 120 / 400 = 0.3\n",
    "# P(Spam) = 400 / 1000 = 0.4\n",
    "# P(Free) = 300 / 1000 = 0.3\n",
    "# P(Spam | Free) = 0.3 * 0.4 / 0.3 = 0.4\n",
    "# P(Spam | Free) = 0.4\n",
    "\n",
    "# P(Spam | Free) = 0.4"
   ]
  },
  {
   "cell_type": "code",
   "execution_count": 4,
   "id": "649ae605",
   "metadata": {},
   "outputs": [
    {
     "name": "stdout",
     "output_type": "stream",
     "text": [
      "P(Spam | Free) = 0.4000\n"
     ]
    }
   ],
   "source": [
    "# Function to validate inputs\n",
    "def validate_inputs(total, free, spam, spam_free):\n",
    "    if total <= 0:\n",
    "        return False, \"Total emails must be positive\"\n",
    "    if free < 0 or free > total:\n",
    "        return False, \"Emails with 'free' must be non-negative and not exceed total emails\"\n",
    "    if spam < 0 or spam > total:\n",
    "        return False, \"Spam emails must be non-negative and not exceed total emails\"\n",
    "    if spam_free < 0 or spam_free > spam or spam_free > free:\n",
    "        return False, \"Spam emails with 'free' must be non-negative and not exceed spam or free emails\"\n",
    "    return True, \"\"\n",
    "\n",
    "# Function to calculate P(Spam | Free) using Bayes' Theorem\n",
    "def calculate_spam_probability(total_emails, emails_with_free, spam_emails, spam_and_free):\n",
    "    # Validate inputs\n",
    "    is_valid, error_message = validate_inputs(total_emails, emails_with_free, spam_emails, spam_and_free)\n",
    "    if not is_valid:\n",
    "        return error_message\n",
    "    \n",
    "    # Calculate probabilities\n",
    "    p_spam = spam_emails / total_emails  # P(Spam)\n",
    "    p_free = emails_with_free / total_emails  # P(Free)\n",
    "    p_free_given_spam = spam_and_free / spam_emails  # P(Free | Spam)\n",
    "    \n",
    "    # Apply Bayes' Theorem: P(Spam | Free) = P(Free | Spam) * P(Spam) / P(Free)\n",
    "    p_spam_given_free = (p_free_given_spam * p_spam) / p_free\n",
    "    \n",
    "    return p_spam_given_free\n",
    "\n",
    "# Given data\n",
    "total_emails = 1000\n",
    "emails_with_free = 300\n",
    "spam_emails = 400\n",
    "spam_and_free = 120\n",
    "\n",
    "# Calculate and print result\n",
    "result = calculate_spam_probability(total_emails, emails_with_free, spam_emails, spam_and_free)\n",
    "print(f\"P(Spam | Free) = {result:.4f}\")"
   ]
  }
 ],
 "metadata": {
  "kernelspec": {
   "display_name": "venv",
   "language": "python",
   "name": "python3"
  },
  "language_info": {
   "codemirror_mode": {
    "name": "ipython",
    "version": 3
   },
   "file_extension": ".py",
   "mimetype": "text/x-python",
   "name": "python",
   "nbconvert_exporter": "python",
   "pygments_lexer": "ipython3",
   "version": "3.13.5"
  }
 },
 "nbformat": 4,
 "nbformat_minor": 5
}
