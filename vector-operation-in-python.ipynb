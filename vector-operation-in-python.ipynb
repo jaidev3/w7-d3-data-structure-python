{
 "cells": [
  {
   "cell_type": "markdown",
   "id": "f9f3da8c",
   "metadata": {},
   "source": [
    "Vector Operations in Python\n",
    "Write Python functions to:\n",
    "\n",
    "Add two vectors.\n",
    "Compute the dot product.\n",
    "Check if two vectors are orthogonal.\n",
    "Sample Input:\n",
    "\n",
    "a = [1, 2, 3]\n",
    "\n",
    "b = [4, 5, 6]\n",
    "\n",
    "​Expected Output:\n",
    "\n",
    "Sum: [5, 7, 9]\n",
    "\n",
    "Dot Product: 32\n",
    "\n",
    "Orthogonal: False\n",
    "\n",
    "​\n",
    "\n",
    "Matrix Multiplication\n",
    "Write a Python program that multiplies two matrices using nested loops (without NumPy).\n",
    "\n",
    "Test with:\n",
    "A = [[1, 2], [3, 4]]\n",
    "\n",
    "B = [[5, 6], [7, 8]]"
   ]
  },
  {
   "cell_type": "code",
   "execution_count": 7,
   "id": "efcffd1e",
   "metadata": {},
   "outputs": [
    {
     "name": "stdout",
     "output_type": "stream",
     "text": [
      "[5, 7, 9]\n",
      "32\n",
      "False\n",
      "[[19, 22], [43, 50]]\n"
     ]
    }
   ],
   "source": [
    "def add_vectors(a, b):\n",
    "    if len(a) != len(b):\n",
    "        raise ValueError(\"Vectors must have the same length\")\n",
    "    return [a[i] + b[i] for i in range(len(a))]\n",
    "\n",
    "def dot_product(a, b):\n",
    "    if len(a) != len(b):\n",
    "        raise ValueError(\"Vectors must have the same length\")\n",
    "    return sum(a[i] * b[i] for i in range(len(a)))\n",
    "\n",
    "def is_orthogonal(a, b):\n",
    "    return dot_product(a, b) == 0\n",
    "\n",
    "def matrix_multiplication(A, B):\n",
    "    if len(A[0]) != len(B):\n",
    "        raise ValueError(\"Number of columns in A must match number of rows in B\")\n",
    "    \n",
    "    result = [[0 for _ in range(len(B[0]))] for _ in range(len(A))]\n",
    "    for i in range(len(A)):\n",
    "        for j in range(len(B[0])):\n",
    "            for k in range(len(B)):\n",
    "                result[i][j] += A[i][k] * B[k][j]\n",
    "    return result\n",
    "\n",
    "a = [1, 2, 3]\n",
    "b = [4, 5, 6]\n",
    "\n",
    "A = [[1, 2], [3, 4]]\n",
    "B = [[5, 6], [7, 8]]\n",
    "\n",
    "print(add_vectors(a, b))\n",
    "print(dot_product(a, b))\n",
    "print(is_orthogonal(a, b))\n",
    "print(matrix_multiplication(A, B))"
   ]
  }
 ],
 "metadata": {
  "kernelspec": {
   "display_name": "venv",
   "language": "python",
   "name": "python3"
  },
  "language_info": {
   "codemirror_mode": {
    "name": "ipython",
    "version": 3
   },
   "file_extension": ".py",
   "mimetype": "text/x-python",
   "name": "python",
   "nbconvert_exporter": "python",
   "pygments_lexer": "ipython3",
   "version": "3.13.5"
  }
 },
 "nbformat": 4,
 "nbformat_minor": 5
}
